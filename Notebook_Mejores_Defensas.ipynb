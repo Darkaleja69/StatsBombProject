{
 "cells": [
  {
   "cell_type": "code",
   "execution_count": null,
   "metadata": {},
   "outputs": [
    {
     "name": "stdout",
     "output_type": "stream",
     "text": [
      "Defaulting to user installation because normal site-packages is not writeable\n",
      "Collecting statsbombpy\n",
      "  Downloading statsbombpy-1.14.0-py3-none-any.whl (16 kB)\n",
      "Collecting requests-cache\n",
      "  Downloading requests_cache-1.2.1-py3-none-any.whl (61 kB)\n",
      "\u001b[2K     \u001b[90m━━━━━━━━━━━━━━━━━━━━━━━━━━━━━━━━━━━━━━━━\u001b[0m \u001b[32m61.4/61.4 KB\u001b[0m \u001b[31m1.0 MB/s\u001b[0m eta \u001b[36m0:00:00\u001b[0ma \u001b[36m0:00:01\u001b[0m\n",
      "\u001b[?25hCollecting joblib\n",
      "  Downloading joblib-1.4.2-py3-none-any.whl (301 kB)\n",
      "\u001b[2K     \u001b[90m━━━━━━━━━━━━━━━━━━━━━━━━━━━━━━━━━━━━━━━\u001b[0m \u001b[32m301.8/301.8 KB\u001b[0m \u001b[31m1.2 MB/s\u001b[0m eta \u001b[36m0:00:00\u001b[0ma \u001b[36m0:00:01\u001b[0m\n",
      "\u001b[?25hRequirement already satisfied: requests in /usr/lib/python3/dist-packages (from statsbombpy) (2.25.1)\n",
      "Collecting inflect\n",
      "  Downloading inflect-7.5.0-py3-none-any.whl (35 kB)\n",
      "Requirement already satisfied: pandas in /home/ale/.local/lib/python3.10/site-packages (from statsbombpy) (2.2.2)\n",
      "Collecting typeguard>=4.0.1\n",
      "  Downloading typeguard-4.4.1-py3-none-any.whl (35 kB)\n",
      "Requirement already satisfied: more_itertools>=8.5.0 in /usr/lib/python3/dist-packages (from inflect->statsbombpy) (8.10.0)\n",
      "Requirement already satisfied: numpy>=1.22.4 in /home/ale/.local/lib/python3.10/site-packages (from pandas->statsbombpy) (1.26.4)\n",
      "Requirement already satisfied: python-dateutil>=2.8.2 in /home/ale/.local/lib/python3.10/site-packages (from pandas->statsbombpy) (2.9.0.post0)\n",
      "Requirement already satisfied: pytz>=2020.1 in /usr/lib/python3/dist-packages (from pandas->statsbombpy) (2022.1)\n",
      "Requirement already satisfied: tzdata>=2022.7 in /home/ale/.local/lib/python3.10/site-packages (from pandas->statsbombpy) (2024.1)\n",
      "Collecting cattrs>=22.2\n",
      "  Downloading cattrs-24.1.2-py3-none-any.whl (66 kB)\n",
      "\u001b[2K     \u001b[90m━━━━━━━━━━━━━━━━━━━━━━━━━━━━━━━━━━━━━━━━\u001b[0m \u001b[32m66.4/66.4 KB\u001b[0m \u001b[31m8.4 MB/s\u001b[0m eta \u001b[36m0:00:00\u001b[0m\n",
      "\u001b[?25hRequirement already satisfied: platformdirs>=2.5 in /home/ale/.local/lib/python3.10/site-packages (from requests-cache->statsbombpy) (4.2.2)\n",
      "Requirement already satisfied: urllib3>=1.25.5 in /usr/lib/python3/dist-packages (from requests-cache->statsbombpy) (1.26.5)\n",
      "Requirement already satisfied: attrs>=21.2 in /home/ale/.local/lib/python3.10/site-packages (from requests-cache->statsbombpy) (23.2.0)\n",
      "Collecting url-normalize>=1.4\n",
      "  Downloading url_normalize-1.4.3-py2.py3-none-any.whl (6.8 kB)\n",
      "Requirement already satisfied: exceptiongroup>=1.1.1 in /home/ale/.local/lib/python3.10/site-packages (from cattrs>=22.2->requests-cache->statsbombpy) (1.2.1)\n",
      "Requirement already satisfied: typing-extensions!=4.6.3,>=4.1.0 in /home/ale/.local/lib/python3.10/site-packages (from cattrs>=22.2->requests-cache->statsbombpy) (4.11.0)\n",
      "Requirement already satisfied: six>=1.5 in /usr/lib/python3/dist-packages (from python-dateutil>=2.8.2->pandas->statsbombpy) (1.16.0)\n",
      "Installing collected packages: url-normalize, typeguard, joblib, cattrs, requests-cache, inflect, statsbombpy\n",
      "Successfully installed cattrs-24.1.2 inflect-7.5.0 joblib-1.4.2 requests-cache-1.2.1 statsbombpy-1.14.0 typeguard-4.4.1 url-normalize-1.4.3\n"
     ]
    }
   ],
   "source": [
    "!pip install statsbombpy\n"
   ]
  },
  {
   "cell_type": "code",
   "execution_count": 2,
   "metadata": {},
   "outputs": [],
   "source": [
    "import warnings\n",
    "from statsbombpy import sb\n",
    "import pandas as pd\n",
    "pd.set_option('display.max_columns', None)\n",
    "warnings.filterwarnings('ignore')"
   ]
  },
  {
   "cell_type": "code",
   "execution_count": 3,
   "metadata": {},
   "outputs": [
    {
     "name": "stdout",
     "output_type": "stream",
     "text": [
      "    competition_id  season_id   country_name        competition_name  \\\n",
      "0                9        281        Germany           1. Bundesliga   \n",
      "1                9         27        Germany           1. Bundesliga   \n",
      "2             1267        107         Africa  African Cup of Nations   \n",
      "3               16          4         Europe        Champions League   \n",
      "4               16          1         Europe        Champions League   \n",
      "..             ...        ...            ...                     ...   \n",
      "69              55         43         Europe               UEFA Euro   \n",
      "70              35         75         Europe      UEFA Europa League   \n",
      "71              53        106         Europe       UEFA Women's Euro   \n",
      "72              72        107  International       Women's World Cup   \n",
      "73              72         30  International       Women's World Cup   \n",
      "\n",
      "   competition_gender  competition_youth  competition_international  \\\n",
      "0                male              False                      False   \n",
      "1                male              False                      False   \n",
      "2                male              False                       True   \n",
      "3                male              False                      False   \n",
      "4                male              False                      False   \n",
      "..                ...                ...                        ...   \n",
      "69               male              False                       True   \n",
      "70               male              False                      False   \n",
      "71             female              False                       True   \n",
      "72             female              False                       True   \n",
      "73             female              False                       True   \n",
      "\n",
      "   season_name               match_updated           match_updated_360  \\\n",
      "0    2023/2024  2024-07-15T14:15:54.671676  2024-07-15T14:17:00.877356   \n",
      "1    2015/2016  2024-05-19T11:11:14.192381                        None   \n",
      "2         2023  2024-06-13T07:51:02.452825                        None   \n",
      "3    2018/2019  2024-06-12T07:44:38.559714     2021-06-13T16:17:31.694   \n",
      "4    2017/2018  2024-02-13T02:35:28.134882     2021-06-13T16:17:31.694   \n",
      "..         ...                         ...                         ...   \n",
      "69        2020  2024-04-16T12:44:40.558402  2024-04-16T12:47:18.505110   \n",
      "70   1988/1989  2024-02-12T14:45:05.702250     2021-06-13T16:17:31.694   \n",
      "71        2022  2024-02-13T13:27:17.178263  2024-02-13T13:30:52.820588   \n",
      "72        2023  2024-07-14T16:59:48.469596  2024-07-14T17:01:38.887279   \n",
      "73        2019  2024-02-13T09:41:26.379767     2021-06-13T16:17:31.694   \n",
      "\n",
      "           match_available_360             match_available  \n",
      "0   2024-07-15T14:17:00.877356  2024-07-15T14:15:54.671676  \n",
      "1                         None  2024-05-19T11:11:14.192381  \n",
      "2                         None  2024-06-13T07:51:02.452825  \n",
      "3                         None  2024-06-12T07:44:38.559714  \n",
      "4                         None  2024-02-13T02:35:28.134882  \n",
      "..                         ...                         ...  \n",
      "69  2024-04-16T12:47:18.505110  2024-04-16T12:44:40.558402  \n",
      "70                        None  2024-02-12T14:45:05.702250  \n",
      "71  2024-02-13T13:30:52.820588  2024-02-13T13:27:17.178263  \n",
      "72  2024-07-14T17:01:38.887279  2024-07-14T16:59:48.469596  \n",
      "73                        None  2024-02-13T09:41:26.379767  \n",
      "\n",
      "[74 rows x 12 columns]\n"
     ]
    }
   ],
   "source": [
    "print(sb.competitions())"
   ]
  },
  {
   "cell_type": "code",
   "execution_count": 4,
   "metadata": {},
   "outputs": [
    {
     "name": "stdout",
     "output_type": "stream",
     "text": [
      "    competition_id  season_id country_name competition_name  \\\n",
      "38              11         90        Spain          La Liga   \n",
      "\n",
      "   competition_gender  competition_youth  competition_international  \\\n",
      "38               male              False                      False   \n",
      "\n",
      "   season_name               match_updated           match_updated_360  \\\n",
      "38   2020/2021  2024-07-15T15:15:28.367546  2024-07-15T15:17:45.455234   \n",
      "\n",
      "           match_available_360             match_available  \n",
      "38  2024-07-15T15:17:45.455234  2024-07-15T15:15:28.367546  \n"
     ]
    }
   ],
   "source": [
    "df_competiciones=sb.competitions()\n",
    "competiciones_espanolas=df_competiciones[df_competiciones[\"country_name\"]==\"Spain\"]\n",
    "liga_20_21=competiciones_espanolas[competiciones_espanolas['season_name']=='2020/2021']\n",
    "print(liga_20_21)"
   ]
  },
  {
   "cell_type": "code",
   "execution_count": null,
   "metadata": {},
   "outputs": [],
   "source": [
    "df_matches_2021=sb.matches(competition_id=11,season_id=90)\n",
    "df_matches_2021"
   ]
  },
  {
   "cell_type": "code",
   "execution_count": 43,
   "metadata": {},
   "outputs": [],
   "source": [
    "def add_player_stats(players_list,stat,name_stat,player,mean):\n",
    "    found=False\n",
    "    for play in players_list:\n",
    "        if play[\"name\"]==player:\n",
    "            list_stats=play.get(\"stats\")\n",
    "            for stat_x in list_stats:\n",
    "                if stat_x['name_stat']==name_stat:\n",
    "                    if mean:\n",
    "                        matches_played=stat_x['Matches Played']\n",
    "                        new_mean=(stat_x['stat']* matches_played + stat)/(matches_played+1)\n",
    "                        stat_x['stat']=new_mean\n",
    "                    found=True\n",
    "                \n",
    "            if not found:\n",
    "                play[\"stats\"].append({\"name_stat\":name_stat,\"stat\":stat})\n",
    "        "
   ]
  },
  {
   "cell_type": "code",
   "execution_count": 44,
   "metadata": {},
   "outputs": [],
   "source": [
    "def investigate_stat(players_list,name_stat,df,percen):\n",
    "     \n",
    "    unique_players = df['player'].unique()\n",
    "    # Recorrer los jugadores únicos y contar sus apariciones\n",
    "    for player in unique_players:\n",
    "        #We have to calculate the % of the stat in the game\n",
    "        if percen is not None:\n",
    "            full_stat = (percen['player'] == player).sum()\n",
    "            well_stat = (df['player'] == player).sum()\n",
    "            stat=(well_stat/full_stat)*100\n",
    "            add_player_stats(players_list,stat,name_stat,player,True)\n",
    "        else:\n",
    "            stat = (df['player'] == player).sum()\n",
    "            add_player_stats(players_list,stat,name_stat,player,False)"
   ]
  },
  {
   "cell_type": "code",
   "execution_count": 45,
   "metadata": {},
   "outputs": [],
   "source": [
    "def add_matches_played(players_list,event_df):\n",
    "    found=False\n",
    "    for player in players_list:\n",
    "        name=player['name']\n",
    "        if name in event_df['player'].unique():\n",
    "            list_stats=player.get(\"stats\")\n",
    "            for stat_x in list_stats:\n",
    "                if stat_x['name_stat']=='Matches Played':\n",
    "                    stat_x['stat']+=1\n",
    "                    found=True\n",
    "            if not found:\n",
    "                list_stats.append({'name_stat':'Matches Played','stat':1})\n",
    "                     \n",
    "                    \n"
   ]
  },
  {
   "cell_type": "code",
   "execution_count": 46,
   "metadata": {},
   "outputs": [],
   "source": [
    "def remove_na(df_list):\n",
    "    new_list=[]\n",
    "    for df in df_list:\n",
    "        df=df.dropna(axis=1,how='all')\n",
    "        new_list.append(df)\n",
    "    return new_list"
   ]
  },
  {
   "cell_type": "code",
   "execution_count": 47,
   "metadata": {},
   "outputs": [],
   "source": [
    "def create_playerslist(team):\n",
    "    player_list=[]\n",
    "    for index, row in team.iterrows():\n",
    "        player_name = row['player_name']\n",
    "        positions = row['positions']\n",
    "        for position in positions:\n",
    "            if position['position']=='Left Back' or position['position']=='Right Back':\n",
    "                player_list.append({'name':player_name,'stats':[]})\n",
    "    return player_list"
   ]
  },
  {
   "cell_type": "code",
   "execution_count": 48,
   "metadata": {},
   "outputs": [],
   "source": [
    "def printearcolumnas(df):\n",
    "    print(df.columns)"
   ]
  },
  {
   "cell_type": "code",
   "execution_count": null,
   "metadata": {},
   "outputs": [
    {
     "name": "stdout",
     "output_type": "stream",
     "text": [
      "[{'name': 'Rubén Duarte Sánchez', 'stats': [{'name_stat': 'Matches Played', 'stat': 1}, {'name_stat': 'Ball recoveries', 'stat': 1}, {'name_stat': 'Duels', 'stat': 33.33333333333333}, {'name_stat': 'Passes completed', 'stat': 80.0}, {'name_stat': 'Interceptions', 'stat': 2}]}, {'name': 'Martín Aguirregabiria Padilla', 'stats': [{'name_stat': 'Matches Played', 'stat': 1}, {'name_stat': 'Passes completed', 'stat': 100.0}, {'name_stat': 'Interceptions', 'stat': 1}]}, {'name': 'Joaquín Navarro Jiménez', 'stats': [{'name_stat': 'Matches Played', 'stat': 1}, {'name_stat': 'Ball recoveries', 'stat': 1}, {'name_stat': 'Duels', 'stat': 16.666666666666664}, {'name_stat': 'Passes completed', 'stat': 86.36363636363636}]}]\n"
     ]
    }
   ],
   "source": [
    "#Vamos a hacer una lista de los mejores laterales de la liga y sus estadísticas a lo largo de la temporada. Por cada jugador vamos a guardar: {'player','stats':[stats we want]}\n",
    "\n",
    "fullbacks_list=[]\n",
    "for match in df_matches_2021[\"match_id\"]:\n",
    "    eventos=sb.events(match_id=match)\n",
    "    not_barcelona_events=eventos[eventos['team']!='Barcelona']\n",
    "    lineup=sb.lineups(match_id=match)\n",
    "    for team in lineup:\n",
    "        if team!='Barcelona':\n",
    "            fullbacks_list=create_playerslist(lineup[team])\n",
    "\n",
    "    add_matches_played(fullbacks_list,not_barcelona_events)\n",
    "    #Ball recoveries\n",
    "    ball_recovery=not_barcelona_events[not_barcelona_events['type']=='Ball Recovery']\n",
    "    investigate_stat(fullbacks_list,\"Ball recoveries\",ball_recovery[['player']],None)\n",
    "    #Duels\n",
    "    duels=not_barcelona_events[not_barcelona_events['type']=='Duel']\n",
    "    won_duels=not_barcelona_events[not_barcelona_events['duel_outcome']==\"Won\"]\n",
    "    investigate_stat(fullbacks_list,\"Duels\",won_duels[['player']],duels[['player']])\n",
    "    #Pass completion %\n",
    "    passes=not_barcelona_events[not_barcelona_events['type']=='Pass']\n",
    "    \n",
    "    every_pass=passes[['player','pass_recipient']]\n",
    "    passes_completed=every_pass.dropna(subset=['pass_recipient'])\n",
    "    investigate_stat(fullbacks_list,\"Passes completed\",passes_completed[['player']],every_pass[['player']])\n",
    "\n",
    "    num_dribbles=not_barcelona_events[not_barcelona_events['type']=='Dribble']\n",
    "    dribbles_completed=num_dribbles[num_dribbles['dribble_outcome']=='Complete']\n",
    "\n",
    "    investigate_stat(fullbacks_list,\"Num Dribbles\",num_dribbles[['player']],None)\n",
    "    investigate_stat(fullbacks_list,\"Num Dribbles\",dribbles_completed[['player']],num_dribbles[['player']])\n",
    "    \n",
    "    interception=eventos[eventos['type']=='Interception']\n",
    "    won_interceptions=interception[(interception['interception_outcome']=='Won') | (interception['interception_outcome']=='Success In Play')]\n",
    "    investigate_stat(fullbacks_list,\"Interceptions\",won_interceptions[['player']],None)\n",
    "\n",
    "    #print(duels[duels['duel_outcome']==\"Won\"])\n",
    "    #add_player_stats(players_list,)\n",
    "    #print(df_list_no_nan[0])\n",
    "    break\n",
    "print(fullbacks_list)\n",
    "#See how are the events and which ones we have to take to select the best defenders\n",
    "#The types we are interested in are 'Block','Ball Recovery','Duel','Interception','Dribbled Past'  \n",
    "#eventos_1=lista_eventos[0]\n",
    "\n",
    "#eventos_1['type'].unique()\n",
    "#duelos=eventos_1[eventos_1['type']=='Duel']\n",
    "#duelos.columns\n",
    "#duelos=duelos[['player','team','duel_type','duel_outcome']]\n",
    "#print(duelos['duel_outcome'].unique())\n",
    "#jugador_con_masduelos_ganados=duelos[duelos['duel_outcome']=='Won'].value_counts(['player'])\n",
    "#jugador_con_masduelos_ganados\n"
   ]
  },
  {
   "cell_type": "code",
   "execution_count": null,
   "metadata": {},
   "outputs": [],
   "source": [
    "\n",
    "    \n",
    "\n"
   ]
  },
  {
   "cell_type": "code",
   "execution_count": 8,
   "metadata": {},
   "outputs": [
    {
     "name": "stdout",
     "output_type": "stream",
     "text": [
      "1. Bundesliga\n",
      "1. Bundesliga\n",
      "African Cup of Nations\n",
      "Champions League\n",
      "Champions League\n",
      "Champions League\n",
      "Champions League\n",
      "Champions League\n",
      "Champions League\n",
      "Champions League\n",
      "Champions League\n",
      "Champions League\n",
      "Champions League\n",
      "Champions League\n",
      "Champions League\n",
      "Champions League\n",
      "Champions League\n",
      "Champions League\n",
      "Champions League\n",
      "Champions League\n",
      "Champions League\n",
      "Copa America\n",
      "Copa del Rey\n",
      "Copa del Rey\n",
      "Copa del Rey\n",
      "FA Women's Super League\n",
      "FA Women's Super League\n",
      "FA Women's Super League\n",
      "FIFA U20 World Cup\n",
      "FIFA World Cup\n",
      "FIFA World Cup\n",
      "FIFA World Cup\n",
      "FIFA World Cup\n",
      "FIFA World Cup\n",
      "FIFA World Cup\n",
      "FIFA World Cup\n",
      "FIFA World Cup\n",
      "Indian Super league\n",
      "La Liga\n",
      "La Liga\n",
      "La Liga\n",
      "La Liga\n",
      "La Liga\n",
      "La Liga\n",
      "La Liga\n",
      "La Liga\n",
      "La Liga\n",
      "La Liga\n",
      "La Liga\n",
      "La Liga\n",
      "La Liga\n",
      "La Liga\n",
      "La Liga\n",
      "La Liga\n",
      "La Liga\n",
      "La Liga\n",
      "Liga Profesional\n",
      "Liga Profesional\n",
      "Ligue 1\n",
      "Ligue 1\n",
      "Ligue 1\n",
      "Major League Soccer\n",
      "North American League\n",
      "NWSL\n",
      "Premier League\n",
      "Premier League\n",
      "Serie A\n",
      "Serie A\n",
      "UEFA Euro\n",
      "UEFA Euro\n",
      "UEFA Europa League\n",
      "UEFA Women's Euro\n",
      "Women's World Cup\n",
      "Women's World Cup\n"
     ]
    },
    {
     "name": "stderr",
     "output_type": "stream",
     "text": [
      "/home/ale/.local/lib/python3.10/site-packages/statsbombpy/api_client.py:21: NoAuthWarning: credentials were not supplied. open data access only\n",
      "  warnings.warn(\n"
     ]
    }
   ],
   "source": [
    "for comp in sb.competitions()[\"country_name\"]:\n",
    "    print(comp)"
   ]
  }
 ],
 "metadata": {
  "kernelspec": {
   "display_name": "Python 3",
   "language": "python",
   "name": "python3"
  },
  "language_info": {
   "codemirror_mode": {
    "name": "ipython",
    "version": 3
   },
   "file_extension": ".py",
   "mimetype": "text/x-python",
   "name": "python",
   "nbconvert_exporter": "python",
   "pygments_lexer": "ipython3",
   "version": "3.10.12"
  }
 },
 "nbformat": 4,
 "nbformat_minor": 2
}
